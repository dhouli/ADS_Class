{
 "cells": [
  {
   "cell_type": "code",
   "execution_count": 58,
   "metadata": {},
   "outputs": [
    {
     "name": "stdout",
     "output_type": "stream",
     "text": [
      "Requirement already satisfied: pandas in /usr/local/lib/python2.7/dist-packages\n",
      "Requirement already satisfied: pytz>=2011k in /usr/local/lib/python2.7/dist-packages (from pandas)\n",
      "Requirement already satisfied: python-dateutil in /usr/local/lib/python2.7/dist-packages (from pandas)\n",
      "Requirement already satisfied: numpy>=1.7.0 in /usr/local/lib/python2.7/dist-packages (from pandas)\n",
      "Requirement already satisfied: seaborn in /usr/local/lib/python2.7/dist-packages\n",
      "Collecting sklearn\n",
      "Requirement already satisfied: scikit-learn in /usr/local/lib/python2.7/dist-packages (from sklearn)\n",
      "Installing collected packages: sklearn\n",
      "\u001b[31mException:\n",
      "Traceback (most recent call last):\n",
      "  File \"/usr/local/lib/python2.7/dist-packages/pip/basecommand.py\", line 215, in main\n",
      "    status = self.run(options, args)\n",
      "  File \"/usr/local/lib/python2.7/dist-packages/pip/commands/install.py\", line 342, in run\n",
      "    prefix=options.prefix_path,\n",
      "  File \"/usr/local/lib/python2.7/dist-packages/pip/req/req_set.py\", line 784, in install\n",
      "    **kwargs\n",
      "  File \"/usr/local/lib/python2.7/dist-packages/pip/req/req_install.py\", line 851, in install\n",
      "    self.move_wheel_files(self.source_dir, root=root, prefix=prefix)\n",
      "  File \"/usr/local/lib/python2.7/dist-packages/pip/req/req_install.py\", line 1064, in move_wheel_files\n",
      "    isolated=self.isolated,\n",
      "  File \"/usr/local/lib/python2.7/dist-packages/pip/wheel.py\", line 345, in move_wheel_files\n",
      "    clobber(source, lib_dir, True)\n",
      "  File \"/usr/local/lib/python2.7/dist-packages/pip/wheel.py\", line 316, in clobber\n",
      "    ensure_dir(destdir)\n",
      "  File \"/usr/local/lib/python2.7/dist-packages/pip/utils/__init__.py\", line 83, in ensure_dir\n",
      "    os.makedirs(path)\n",
      "  File \"/usr/lib/python2.7/os.py\", line 157, in makedirs\n",
      "    mkdir(name, mode)\n",
      "OSError: [Errno 13] Permission denied: '/usr/local/lib/python2.7/dist-packages/sklearn-0.0.dist-info'\u001b[0m\n",
      "Requirement already satisfied: numpy in /usr/local/lib/python2.7/dist-packages\n"
     ]
    }
   ],
   "source": [
    "# daniel houli\n",
    "# I wanted to cleanly show another model using the same iris dataset\n",
    "# In order to do that I created a new file\n",
    "\n",
    "\n",
    "#start a line with '!' to write to the command line instead. \n",
    "#This allows you to install packages to the EC2 instance from within jupyter\n",
    "!pip install pandas\n",
    "!pip install seaborn\n",
    "!pip install sklearn\n",
    "!pip install numpy\n",
    "\n",
    "\n",
    "from sklearn.datasets import load_iris\n",
    "import numpy as np\n",
    "from sklearn import datasets, linear_model\n",
    "import matplotlib.pyplot as plt\n",
    "from sklearn.metrics import mean_squared_error, r2_score\n",
    "from sklearn.model_selection import train_test_split"
   ]
  },
  {
   "cell_type": "code",
   "execution_count": 59,
   "metadata": {},
   "outputs": [
    {
     "name": "stdout",
     "output_type": "stream",
     "text": [
      "the number X: 442\n",
      "the number Y: 442\n",
      "the train X: 353\n",
      "the test X: 89\n"
     ]
    }
   ],
   "source": [
    "#reference source http://scikit-learn.org/stable/auto_examples/linear_model/plot_ols.html\n",
    "#reference http://python-guide-kr.readthedocs.io/ko/latest/scenarios/ml.html\n",
    "\n",
    "#load our DF and name it df\n",
    "df = datasets.load_diabetes()\n",
    "\n",
    "# Select one feature\n",
    "X = df.data[:, np.newaxis, 2]\n",
    "y = df.target\n",
    "\n",
    "\n",
    "print ('the number X: '+str(len(X)))\n",
    "print ('the number Y: '+str(len(y)))\n",
    "\n",
    "#set train and test data 20%\n",
    "RANDOM_STATE=0\n",
    "X_train, X_test, y_train, y_test = train_test_split(X, y, test_size=0.20, random_state=RANDOM_STATE)\n",
    "\n",
    "#checking the len\n",
    "print ('the train X: '+str(len(X_train)))\n",
    "print ('the test X: '+str(len(X_test)))\n",
    "\n"
   ]
  },
  {
   "cell_type": "code",
   "execution_count": 60,
   "metadata": {},
   "outputs": [
    {
     "name": "stdout",
     "output_type": "stream",
     "text": [
      "('Predictions:(first ten)', array([ 255.17426905,  211.79462571,  161.0087018 ,  129.26749936,\n",
      "        196.98206457,  247.76798848,  123.97729895,  174.76322286,\n",
      "        205.44638522,  198.04010465]))\n",
      "---------------------------------------\n",
      "('This is our coefficients: ', array([ 981.65543614]))\n",
      "---------------------------------------\n",
      "MSE: 4150.680\n",
      "---------------------------------------\n",
      "Variance: 0.191\n"
     ]
    }
   ],
   "source": [
    "\n",
    "#create our regression object\n",
    "reg=linear_model.LinearRegression()\n",
    "#train the model with fit\n",
    "reg.fit(X_train, y_train)\n",
    "#prediction with the test data\n",
    "prediction = reg.predict(X_test)\n",
    "#print out the prediction\n",
    "print(\"Predictions:(first ten)\", prediction[0:10])\n",
    "#we can print out the coefficient and the mean squared error(in %)\n",
    "print('---------------------------------------')\n",
    "print(\"This is our coefficients: \", reg.coef_)\n",
    "print('---------------------------------------')\n",
    "print(\"MSE: %.3f\" % mean_squared_error(y_test, prediction))\n",
    "print('---------------------------------------')\n",
    "#Display variance we know that 1 would be a perfect prediction(in %)\n",
    "print('Variance: %.3f' % r2_score(y_test, prediction))"
   ]
  },
  {
   "cell_type": "code",
   "execution_count": 61,
   "metadata": {
    "scrolled": true
   },
   "outputs": [
    {
     "data": {
      "image/png": "[encoded data removed]",
      "text/plain": [
       "<matplotlib.figure.Figure at 0x7f0c8500ba50>"
      ]
     },
     "metadata": {},
     "output_type": "display_data"
    }
   ],
   "source": [
    "#put the data into a plot\n",
    "plt.scatter(X_test, y_test, color='black')\n",
    "plt.plot(X_test, prediction, color='green', linewidth=3)\n",
    "plt.xticks(())\n",
    "plt.yticks(())\n",
    "\n",
    "plt.show()"
   ]
  },
  {
   "cell_type": "code",
   "execution_count": 56,
   "metadata": {
    "collapsed": true
   },
   "outputs": [],
   "source": []
  },
  {
   "cell_type": "code",
   "execution_count": 64,
   "metadata": {},
   "outputs": [
    {
     "name": "stdout",
     "output_type": "stream",
     "text": [
      "Assignment2_dhouli.ipynb\r\n",
      "Boto_Rekognition_Commands_Artifact_v2.ipynb\r\n",
      "finalized_model_new.sav\r\n",
      "finalized_model.sav\r\n",
      "intro_to_python_data_science_on_aws.ipynb\r\n"
     ]
    },
    {
     "data": {
      "text/plain": [
       "s3.Object(bucket_name='mybucketdanhouli48', key='finalized_model.sav')"
      ]
     },
     "execution_count": 64,
     "metadata": {},
     "output_type": "execute_result"
    }
   ],
   "source": [
    "#code to save your model to disk and then to s3\n",
    "import pickle\n",
    "local_path = \"/home/ubuntu\" # temp path to export your model\n",
    "bucket_name = \"mybucketdanhouli48\" # s3 key to save your network to\n",
    "\n",
    "\n",
    "\n",
    "# save the model to disk\n",
    "filename = 'finalized_model_new.sav'\n",
    "pickle.dump(reg, open(filename, 'wb'))\n",
    "#you should now see your finalized_model.sav in the file path\n",
    "#the ls command prints the contents of this notebook's root folder\n",
    "!ls\n",
    " \n",
    "# Upload to S3\n",
    "#TO GET THIS WORKING, YOU MUST ASSIGN AN ADMIN ROLE TO YOUR EC2 INSTANCE\n",
    "import boto3\n",
    "s3 = boto3.resource('s3')\n",
    "s3.Bucket(bucket_name).put_object(Key='finalized_model.sav', Body=open('finalized_model.sav'))"
   ]
  },
  {
   "cell_type": "code",
   "execution_count": null,
   "metadata": {
    "collapsed": true
   },
   "outputs": [],
   "source": [
    "#copy file to my git directory\n",
    "!cp /home/ubuntu/ADS_Class/Assignment2_dhouli.ipynb /home/ubuntu/git/\n",
    "#then manually push from git dir"
   ]
  }
 ],
 "metadata": {
  "kernelspec": {
   "display_name": "Python 2",
   "language": "python",
   "name": "python2"
  },
  "language_info": {
   "codemirror_mode": {
    "name": "ipython",
    "version": 2
   },
   "file_extension": ".py",
   "mimetype": "text/x-python",
   "name": "python",
   "nbconvert_exporter": "python",
   "pygments_lexer": "ipython2",
   "version": "2.7.12"
  }
 },
 "nbformat": 4,
 "nbformat_minor": 2
}
