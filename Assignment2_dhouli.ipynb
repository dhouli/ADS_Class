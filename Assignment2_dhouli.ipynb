{
 "cells": [
  {
   "cell_type": "code",
   "execution_count": 47,
   "metadata": {
    "collapsed": true
   },
   "outputs": [],
   "source": [
    "# daniel houli\n",
    "# I wanted to cleanly show another model using the same iris dataset\n",
    "# In order to do that I created a new file\n",
    "from sklearn.datasets import load_iris\n",
    "import numpy as np\n",
    "from sklearn import datasets, linear_model\n",
    "import matplotlib.pyplot as plt\n",
    "from sklearn.metrics import mean_squared_error, r2_score\n",
    "from sklearn.model_selection import train_test_split"
   ]
  },
  {
   "cell_type": "code",
   "execution_count": 48,
   "metadata": {},
   "outputs": [
    {
     "name": "stdout",
     "output_type": "stream",
     "text": [
      "the number X: 442\n",
      "the number Y: 442\n",
      "the train X: 309\n",
      "the test X: 133\n"
     ]
    }
   ],
   "source": [
    "#reference source http://scikit-learn.org/stable/auto_examples/linear_model/plot_ols.html\n",
    "#reference http://python-guide-kr.readthedocs.io/ko/latest/scenarios/ml.html\n",
    "\n",
    "#load our DF and name it df\n",
    "df = datasets.load_diabetes()\n",
    "\n",
    "# Select one feature\n",
    "X = df.data[:, np.newaxis, 2]\n",
    "y = df.target\n",
    "\n",
    "\n",
    "print ('the number X: '+str(len(X)))\n",
    "print ('the number Y: '+str(len(y)))\n",
    "\n",
    "#set train and test data 20%\n",
    "RANDOM_STATE=0\n",
    "X_train, X_test, y_train, y_test = train_test_split(X, y, test_size=0.20, random_state=RANDOM_STATE)\n",
    "\n",
    "#checking the len\n",
    "print ('the train X: '+str(len(X_train)))\n",
    "print ('the test X: '+str(len(X_test)))\n",
    "\n"
   ]
  },
  {
   "cell_type": "code",
   "execution_count": 49,
   "metadata": {},
   "outputs": [
    {
     "name": "stdout",
     "output_type": "stream",
     "text": [
      "('Predictions:(first ten)', array([ 259.62448579,  214.85204626,  162.43553169,  129.67521008,\n",
      "        199.56389618,  251.98041075,  124.21515648,  176.63167105,\n",
      "        208.29998194,  200.6559069 ]))\n",
      "---------------------------------------\n",
      "('This is our coefficients: ', array([ 1013.17358257]))\n",
      "---------------------------------------\n",
      "MSE: 3921.372\n",
      "---------------------------------------\n",
      "Variance: 0.231\n"
     ]
    }
   ],
   "source": [
    "\n",
    "#create our regression object\n",
    "reg=linear_model.LinearRegression()\n",
    "#train the model with fit\n",
    "reg.fit(X_train, y_train)\n",
    "#prediction with the test data\n",
    "prediction = reg.predict(X_test)\n",
    "#print out the prediction\n",
    "print(\"Predictions:(first ten)\", prediction[0:10])\n",
    "#we can print out the coefficient and the mean squared error(in %)\n",
    "print('---------------------------------------')\n",
    "print(\"This is our coefficients: \", reg.coef_)\n",
    "print('---------------------------------------')\n",
    "print(\"MSE: %.3f\" % mean_squared_error(y_test, prediction))\n",
    "print('---------------------------------------')\n",
    "#Display variance we know that 1 would be a perfect prediction(in %)\n",
    "print('Variance: %.3f' % r2_score(y_test, prediction))"
   ]
  },
  {
   "cell_type": "code",
   "execution_count": 50,
   "metadata": {},
   "outputs": [
    {
     "data": {
      "image/png": "[encoded data removed]",
      "text/plain": [
       "<matplotlib.figure.Figure at 0x7f0c85018610>"
      ]
     },
     "metadata": {},
     "output_type": "display_data"
    }
   ],
   "source": [
    "#put the data into a plot\n",
    "plt.scatter(X_test, y_test, color='black')\n",
    "plt.plot(X_test, prediction, color='green', linewidth=3)\n",
    "plt.xticks(())\n",
    "plt.yticks(())\n",
    "\n",
    "plt.show()"
   ]
  },
  {
   "cell_type": "code",
   "execution_count": 42,
   "metadata": {
    "collapsed": true
   },
   "outputs": [],
   "source": [
    "#copy file to my git directory\n",
    "!cp /home/ubuntu/ADS_Class/Assignment2_dhouli.ipynb /home/ubuntu/git/\n",
    "#then manually push from git dir"
   ]
  },
  {
   "cell_type": "code",
   "execution_count": null,
   "metadata": {
    "collapsed": true
   },
   "outputs": [],
   "source": []
  }
 ],
 "metadata": {
  "kernelspec": {
   "display_name": "Python 2",
   "language": "python",
   "name": "python2"
  },
  "language_info": {
   "codemirror_mode": {
    "name": "ipython",
    "version": 2
   },
   "file_extension": ".py",
   "mimetype": "text/x-python",
   "name": "python",
   "nbconvert_exporter": "python",
   "pygments_lexer": "ipython2",
   "version": "2.7.12"
  }
 },
 "nbformat": 4,
 "nbformat_minor": 2
}
