{
 "cells": [
  {
   "cell_type": "code",
   "execution_count": 22,
   "metadata": {
    "collapsed": true
   },
   "outputs": [],
   "source": [
    "#daniel houli\n",
    "# I wanted to cleanly show another model using the same iris dataset\n",
    "# In order to do that I created a new file\n",
    "from sklearn.datasets import load_iris\n",
    "import numpy as np\n",
    "from sklearn import datasets, linear_model\n",
    "import matplotlib.pyplot as plt\n",
    "from sklearn.metrics import mean_squared_error, r2_score"
   ]
  },
  {
   "cell_type": "code",
   "execution_count": 33,
   "metadata": {},
   "outputs": [],
   "source": [
    "#reference source http://scikit-learn.org/stable/auto_examples/linear_model/plot_ols.html\n",
    "\n",
    "#load our DF and name it df\n",
    "df = datasets.load_diabetes()\n",
    "\n",
    "# Select one feature\n",
    "X = df.data[:, np.newaxis, 2]\n",
    "\n",
    "#Splitting up the data training & testing\n",
    "#X\n",
    "X_train = X[ind_data[:-20]]\n",
    "X_test = X[ind_data[-20:]]\n",
    "#y\n",
    "y_train = y[ind_data[:-20]]\n",
    "y_test = y[ind_data[-20:]]\n",
    "\n"
   ]
  },
  {
   "cell_type": "code",
   "execution_count": 34,
   "metadata": {},
   "outputs": [
    {
     "name": "stdout",
     "output_type": "stream",
     "text": [
      "('Predictions:(first ten)', array([ 123.63046417,  171.75836726,  199.40631159,  219.88627036,\n",
      "        170.73436933,  210.67028891,  147.18241675,  143.086425  ,\n",
      "        157.42239613,   89.83853221]))\n",
      "---------------------------------------\n",
      "('This is our coefficients: ', array([ 950.0709474]))\n",
      "---------------------------------------\n",
      "MSE: 4773.862\n",
      "---------------------------------------\n",
      "Variance: 0.269\n"
     ]
    }
   ],
   "source": [
    "\n",
    "#create our regression object\n",
    "reg=linear_model.LinearRegression()\n",
    "#train the model with fit\n",
    "reg.fit(X_train, y_train)\n",
    "#prediction with the test data\n",
    "prediction = reg.predict(X_test)\n",
    "#print out the prediction\n",
    "print(\"Predictions:(first ten)\", prediction[0:10])\n",
    "#we can print out the coefficient and the mean squared error(in %)\n",
    "print('---------------------------------------')\n",
    "print(\"This is our coefficients: \", reg.coef_)\n",
    "print('---------------------------------------')\n",
    "print(\"MSE: %.3f\" % mean_squared_error(y_test, prediction))\n",
    "print('---------------------------------------')\n",
    "#Display variance we know that 1 would be a perfect prediction(in %)\n",
    "print('Variance: %.3f' % r2_score(y_test, prediction))"
   ]
  },
  {
   "cell_type": "code",
   "execution_count": 35,
   "metadata": {},
   "outputs": [
    {
     "data": {
      "image/png": "[encoded data removed]",
      "text/plain": [
       "<matplotlib.figure.Figure at 0x7ff6e7e490d0>"
      ]
     },
     "metadata": {},
     "output_type": "display_data"
    }
   ],
   "source": [
    "#put the data into a plot\n",
    "plt.scatter(X_test, y_test, color='black')\n",
    "plt.plot(X_test, prediction, color='green', linewidth=3)\n",
    "plt.xticks(())\n",
    "plt.yticks(())\n",
    "\n",
    "plt.show()"
   ]
  },
  {
   "cell_type": "code",
   "execution_count": null,
   "metadata": {
    "collapsed": true
   },
   "outputs": [],
   "source": [
    "#copy file to my git directory\n",
    "!mv /home/ubuntu/intro_to_python_data_science_on_aws.ipynb /home/ubuntu/myrepo/"
   ]
  }
 ],
 "metadata": {
  "kernelspec": {
   "display_name": "Python 2",
   "language": "python",
   "name": "python2"
  },
  "language_info": {
   "codemirror_mode": {
    "name": "ipython",
    "version": 2
   },
   "file_extension": ".py",
   "mimetype": "text/x-python",
   "name": "python",
   "nbconvert_exporter": "python",
   "pygments_lexer": "ipython2",
   "version": "2.7.12"
  }
 },
 "nbformat": 4,
 "nbformat_minor": 2
}
